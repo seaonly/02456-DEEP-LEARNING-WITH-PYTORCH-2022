{
 "cells": [
  {
   "cell_type": "code",
   "execution_count": 1,
   "id": "c7667dc7",
   "metadata": {},
   "outputs": [
    {
     "name": "stderr",
     "output_type": "stream",
     "text": [
      "C:\\Users\\nafan\\.conda\\envs\\test2\\lib\\site-packages\\scipy\\__init__.py:146: UserWarning: A NumPy version >=1.16.5 and <1.23.0 is required for this version of SciPy (detected version 1.23.4\n",
      "  warnings.warn(f\"A NumPy version >={np_minversion} and <{np_maxversion}\"\n",
      "C:\\Users\\nafan\\.conda\\envs\\test2\\lib\\site-packages\\ecmwflibs\\__init__.py:75: UserWarning: DLL load failed while importing _ecmwflibs: The specified procedure could not be found.\n",
      "  warnings.warn(str(e))\n",
      "C:\\Users\\nafan\\.conda\\envs\\test2\\lib\\site-packages\\xarray\\backends\\cfgrib_.py:27: UserWarning: Failed to load cfgrib - most likely there is a problem accessing the ecCodes library. Try `import cfgrib` to get the full error message\n",
      "  warnings.warn(\n",
      "C:\\Users\\nafan\\.conda\\envs\\test2\\lib\\site-packages\\tqdm\\auto.py:22: TqdmWarning: IProgress not found. Please update jupyter and ipywidgets. See https://ipywidgets.readthedocs.io/en/stable/user_install.html\n",
      "  from .autonotebook import tqdm as notebook_tqdm\n"
     ]
    }
   ],
   "source": [
    "import tensorflow as tf\n",
    "from tensorflow.keras.layers import Input,Dense,Conv2D,Add,Flatten,Dropout\n",
    "from tensorflow.keras.layers import SeparableConv2D,ReLU\n",
    "from tensorflow.keras.layers import BatchNormalization,MaxPool2D\n",
    "from tensorflow.keras.layers import GlobalAvgPool2D\n",
    "#For fully connected networks\n",
    "from tensorflow.keras.models import Sequential\n",
    "\n",
    "#To construct the network we use dense connected layers\n",
    "from tensorflow.keras.optimizers import SGD\n",
    "from tensorflow.keras import Model\n",
    "import numpy\n",
    "import netCDF4 as nc\n",
    "import xarray\n",
    "import tensorflow_datasets as tfds\n",
    "import os\n",
    "import shutil\n",
    "import glob\n",
    "#import plotly.express as px\n",
    "from tensorflow import keras\n",
    "import pandas as pd\n",
    "import csv\n",
    "from tensorflow.keras.metrics import Precision,Recall,AUC,TruePositives,TrueNegatives,FalsePositives\n",
    "from imblearn.over_sampling import SMOTE\n",
    "import matplotlib.pyplot as plt\n"
   ]
  },
  {
   "cell_type": "code",
   "execution_count": 2,
   "id": "ac9530f8",
   "metadata": {},
   "outputs": [],
   "source": [
    "dir_loc = 'N:/hpc/Data/'"
   ]
  },
  {
   "cell_type": "code",
   "execution_count": 3,
   "id": "bb2047b2",
   "metadata": {},
   "outputs": [],
   "source": [
    "def simple_load_nc_dir_with_generator(data, generate_tensor=True):\n",
    "    #def gen():\n",
    "        results_list = list()\n",
    "        final_dict = None\n",
    "        file_path = dir_loc + data +'.nc'\n",
    "        \n",
    "        ds = xarray.open_dataset(file_path, engine='netcdf4')\n",
    "\n",
    "        if generate_tensor == True:\n",
    "           \n",
    "            results_list += list(map( lambda x : tf.convert_to_tensor(x[1]) ,\n",
    "                                     ds.items() ))\n",
    "        else:\n",
    "            \n",
    "            results_list += list(map( lambda x : x[1],\n",
    "                                     ds.items() ))\n",
    "\n",
    "        print(\"CCC\", ds.items())\n",
    "\n",
    "        \n",
    "        results_list_shape = results_list[0].shape   \n",
    "        final_dict = { \n",
    "                    'conv2d_input': tf.reshape( results_list[0:1],\n",
    "                                               shape=(results_list_shape[0],\n",
    "                                                      results_list_shape[1], \n",
    "                                                      results_list_shape[2], 1)) }\n",
    "\n",
    "      \n",
    "\n",
    "        #print(\"BBB\", results_list[0] )\n",
    "        print(\"X # of inputs:\", final_dict['conv2d_input'].shape, \"and\", type(final_dict['conv2d_input']))\n",
    "\n",
    "        return final_dict\n"
   ]
  },
  {
   "cell_type": "code",
   "execution_count": 4,
   "id": "95c92718",
   "metadata": {},
   "outputs": [
    {
     "name": "stderr",
     "output_type": "stream",
     "text": [
      "C:\\Users\\nafan\\.conda\\envs\\test2\\lib\\site-packages\\ecmwflibs\\__init__.py:75: UserWarning: DLL load failed while importing _ecmwflibs: The specified procedure could not be found.\n",
      "  warnings.warn(str(e))\n",
      "C:\\Users\\nafan\\.conda\\envs\\test2\\lib\\site-packages\\xarray\\backends\\plugins.py:61: RuntimeWarning: Engine 'cfgrib' loading failed:\n",
      "Cannot find the ecCodes library\n",
      "  warnings.warn(f\"Engine {name!r} loading failed:\\n{ex}\", RuntimeWarning)\n"
     ]
    },
    {
     "name": "stdout",
     "output_type": "stream",
     "text": [
      "CCC ItemsView(<xarray.Dataset>\n",
      "Dimensions:  (time: 31, lon: 481, lat: 281)\n",
      "Coordinates:\n",
      "  * time     (time) datetime64[ns] 2007-05-01 2007-05-02 ... 2007-05-31\n",
      "  * lon      (lon) float64 -80.0 -79.75 -79.5 -79.25 ... 39.25 39.5 39.75 40.0\n",
      "  * lat      (lat) float64 20.0 20.25 20.5 20.75 21.0 ... 89.25 89.5 89.75 90.0\n",
      "Data variables:\n",
      "    Z500     (time, lat, lon) float64 -15.08 -14.8 -14.53 ... -18.04 -18.04)\n",
      "X # of inputs: (31, 281, 481, 1) and <class 'tensorflow.python.framework.ops.EagerTensor'>\n",
      "<class 'dict'>\n",
      "CCC ItemsView(<xarray.Dataset>\n",
      "Dimensions:  (time: 31, lon: 481, lat: 281)\n",
      "Coordinates:\n",
      "  * time     (time) datetime64[ns] 2008-05-01 2008-05-02 ... 2008-05-31\n",
      "  * lon      (lon) float64 -80.0 -79.75 -79.5 -79.25 ... 39.25 39.5 39.75 40.0\n",
      "  * lat      (lat) float64 20.0 20.25 20.5 20.75 21.0 ... 89.25 89.5 89.75 90.0\n",
      "Data variables:\n",
      "    Z500     (time, lat, lon) float64 -13.07 -13.15 -13.26 ... -48.53 -48.53)\n",
      "X # of inputs: (31, 281, 481, 1) and <class 'tensorflow.python.framework.ops.EagerTensor'>\n",
      "CCC ItemsView(<xarray.Dataset>\n",
      "Dimensions:  (time: 31, lon: 481, lat: 281)\n",
      "Coordinates:\n",
      "  * time     (time) datetime64[ns] 2009-05-01 2009-05-02 ... 2009-05-31\n",
      "  * lon      (lon) float64 -80.0 -79.75 -79.5 -79.25 ... 39.25 39.5 39.75 40.0\n",
      "  * lat      (lat) float64 20.0 20.25 20.5 20.75 21.0 ... 89.25 89.5 89.75 90.0\n",
      "Data variables:\n",
      "    Z500     (time, lat, lon) float64 8.416 8.252 8.07 ... -89.08 -89.08 -89.08)\n",
      "X # of inputs: (31, 281, 481, 1) and <class 'tensorflow.python.framework.ops.EagerTensor'>\n"
     ]
    }
   ],
   "source": [
    "X_values = simple_load_nc_dir_with_generator(\"x_train\", generate_tensor=True)\n",
    "print(type(X_values))\n",
    "X_val = simple_load_nc_dir_with_generator(\"x_val\", generate_tensor=True)\n",
    "X_val['conv2d_input'].shape\n",
    "X_test = simple_load_nc_dir_with_generator(\"x_test\", generate_tensor=True)"
   ]
  },
  {
   "cell_type": "code",
   "execution_count": 5,
   "id": "2999502c",
   "metadata": {},
   "outputs": [
    {
     "data": {
      "text/plain": [
       "TensorShape([31, 281, 481, 1])"
      ]
     },
     "execution_count": 5,
     "metadata": {},
     "output_type": "execute_result"
    }
   ],
   "source": [
    "X_val['conv2d_input'].shape\n"
   ]
  },
  {
   "cell_type": "code",
   "execution_count": 6,
   "id": "3c7394a6",
   "metadata": {},
   "outputs": [],
   "source": [
    "def open_csv_file(data):\n",
    "   \n",
    "    Y_values = list()\n",
    "    with open(dir_loc + data) as csv_file:\n",
    "        csv_reader = csv.reader(csv_file, delimiter=',')\n",
    "        line_count = 0\n",
    "        for row in csv_reader:\n",
    "            if line_count == 0:\n",
    "                print(f'Column names are {\", \".join(row)}')\n",
    "                line_count += 1\n",
    "            else:\n",
    "                #print(f'\\t{row[0]} and {row[1]} and {row[2]}.')\n",
    "                if row[1] == \"Yes\":\n",
    "                    Y_values.append(1)\n",
    "                else:\n",
    "                    Y_values.append(0)\n",
    "\n",
    "                line_count += 1\n",
    "        print(f'Processed {line_count} lines.')\n",
    "\n",
    "   \n",
    "    Y_values = list(map(lambda x : tf.convert_to_tensor(x), Y_values))\n",
    "\n",
    "    Y_values = {'dense_3': tf.convert_to_tensor( Y_values ) }\n",
    "\n",
    "\n",
    "    return Y_values"
   ]
  },
  {
   "cell_type": "code",
   "execution_count": 7,
   "id": "3d6b6afc",
   "metadata": {},
   "outputs": [
    {
     "name": "stdout",
     "output_type": "stream",
     "text": [
      "Column names are , extreme, year, ex\n",
      "Processed 32 lines.\n",
      "Column names are , extreme, year, ex\n",
      "Processed 32 lines.\n",
      "Column names are , extreme, year, ex\n",
      "Processed 32 lines.\n"
     ]
    }
   ],
   "source": [
    "Y_values = open_csv_file(\"y_train.csv\") \n",
    "Y_val = open_csv_file(\"y_val.csv\") \n",
    "Y_values['dense_3'].shape\n",
    "Y_test = open_csv_file(\"y_test.csv\") "
   ]
  },
  {
   "cell_type": "code",
   "execution_count": 8,
   "id": "7c3ff179",
   "metadata": {},
   "outputs": [
    {
     "name": "stdout",
     "output_type": "stream",
     "text": [
      "Model: \"sequential\"\n",
      "_________________________________________________________________\n",
      " Layer (type)                Output Shape              Param #   \n",
      "=================================================================\n",
      " conv2d (Conv2D)             (None, 279, 479, 10)      100       \n",
      "                                                                 \n",
      " batch_normalization (BatchN  (None, 279, 479, 10)     40        \n",
      " ormalization)                                                   \n",
      "                                                                 \n",
      " max_pooling2d (MaxPooling2D  (None, 139, 239, 10)     0         \n",
      " )                                                               \n",
      "                                                                 \n",
      " conv2d_1 (Conv2D)           (None, 139, 239, 256)     64256     \n",
      "                                                                 \n",
      " batch_normalization_1 (Batc  (None, 139, 239, 256)    1024      \n",
      " hNormalization)                                                 \n",
      "                                                                 \n",
      " max_pooling2d_1 (MaxPooling  (None, 69, 119, 256)     0         \n",
      " 2D)                                                             \n",
      "                                                                 \n",
      " conv2d_2 (Conv2D)           (None, 69, 119, 384)      885120    \n",
      "                                                                 \n",
      " batch_normalization_2 (Batc  (None, 69, 119, 384)     1536      \n",
      " hNormalization)                                                 \n",
      "                                                                 \n",
      " conv2d_3 (Conv2D)           (None, 69, 119, 384)      1327488   \n",
      "                                                                 \n",
      " batch_normalization_3 (Batc  (None, 69, 119, 384)     1536      \n",
      " hNormalization)                                                 \n",
      "                                                                 \n",
      " conv2d_4 (Conv2D)           (None, 69, 119, 256)      884992    \n",
      "                                                                 \n",
      " batch_normalization_4 (Batc  (None, 69, 119, 256)     1024      \n",
      " hNormalization)                                                 \n",
      "                                                                 \n",
      " max_pooling2d_2 (MaxPooling  (None, 34, 59, 256)      0         \n",
      " 2D)                                                             \n",
      "                                                                 \n",
      " flatten (Flatten)           (None, 513536)            0         \n",
      "                                                                 \n",
      " dense (Dense)               (None, 4096)              2103447552\n",
      "                                                                 \n",
      " dropout (Dropout)           (None, 4096)              0         \n",
      "                                                                 \n",
      " dense_1 (Dense)             (None, 4096)              16781312  \n",
      "                                                                 \n",
      " dense_2 (Dense)             (None, 1)                 4097      \n",
      "                                                                 \n",
      " flatten_1 (Flatten)         (None, 1)                 0         \n",
      "                                                                 \n",
      " dense_3 (Dense)             (None, 1)                 2         \n",
      "                                                                 \n",
      "=================================================================\n",
      "Total params: 2,123,400,079\n",
      "Trainable params: 2,123,397,499\n",
      "Non-trainable params: 2,580\n",
      "_________________________________________________________________\n",
      "4/4 [==============================] - 44s 6s/step - loss: 0.5511 - tp: 0.0000e+00 - fp: 0.0000e+00 - tn: 27.0000 - fn: 4.0000 - accuracy: 0.8710 - precision: 0.0000e+00 - recall: 0.0000e+00 - auc: 0.6296 - prc: 0.2057 - val_loss: 0.4776 - val_tp: 0.0000e+00 - val_fp: 0.0000e+00 - val_tn: 31.0000 - val_fn: 0.0000e+00 - val_accuracy: 1.0000 - val_precision: 0.0000e+00 - val_recall: 0.0000e+00 - val_auc: 0.0000e+00 - val_prc: 0.0000e+00\n",
      "1/1 [==============================] - 1s 865ms/step - loss: 0.5092 - tp: 0.0000e+00 - fp: 0.0000e+00 - tn: 29.0000 - fn: 2.0000 - accuracy: 0.9355 - precision: 0.0000e+00 - recall: 0.0000e+00 - auc: 0.5000 - prc: 0.0645\n"
     ]
    },
    {
     "data": {
      "text/plain": [
       "[0.5092499852180481,\n",
       " 0.0,\n",
       " 0.0,\n",
       " 29.0,\n",
       " 2.0,\n",
       " 0.9354838728904724,\n",
       " 0.0,\n",
       " 0.0,\n",
       " 0.5,\n",
       " 0.06451612710952759]"
      ]
     },
     "execution_count": 8,
     "metadata": {},
     "output_type": "execute_result"
    }
   ],
   "source": [
    "#The code was partially taken from\n",
    "# https://towardsdatascience.com/implementing-alexnet-cnn-architecture-using-tensorflow-2-0-and-keras-2113e090ad98\n",
    "# Initialize the model object\n",
    "model = Sequential()\n",
    "# Add a convolutional layer\n",
    "model.add(Conv2D(10, kernel_size=3, activation='relu', \n",
    "               input_shape=(281, 481, 1)))\n",
    "model.add(BatchNormalization())\n",
    "model.add(MaxPool2D(pool_size=(3,3), strides=(2,2)))\n",
    "model.add(Conv2D(filters=256, kernel_size=(5,5), strides=(1,1), activation='relu', padding=\"same\"))\n",
    "model.add(BatchNormalization())\n",
    "model.add(MaxPool2D(pool_size=(3,3), strides=(2,2)))\n",
    "model.add(Conv2D(filters=384, kernel_size=(3,3), strides=(1,1), activation='relu', padding=\"same\"))\n",
    "model.add(BatchNormalization())\n",
    "model.add(Conv2D(filters=384, kernel_size=(3,3), strides=(1,1), activation='relu', padding=\"same\"))\n",
    "model.add(BatchNormalization())\n",
    "model.add(Conv2D(filters=256, kernel_size=(3,3), strides=(1,1), activation='relu', padding=\"same\"))\n",
    "model.add(BatchNormalization())\n",
    "model.add(MaxPool2D(pool_size=(3,3), strides=(2,2)))\n",
    "model.add(Flatten())\n",
    "model.add(Dense(4096, activation='relu'))\n",
    "model.add(Dropout(0.5))\n",
    "model.add(Dense(4096, activation='relu'))\n",
    "model.add(Dense(1, activation='sigmoid'))\n",
    "# Flatten the output of the convolutional layer\n",
    "model.add(Flatten())\n",
    "# Add an output layer for the 3 categories\n",
    "model.add(Dense(1, activation='sigmoid'))\n",
    "\n",
    "model.summary()\n",
    "\n",
    "\n",
    "METRICS = [\n",
    "      keras.metrics.TruePositives(name='tp'),\n",
    "      keras.metrics.FalsePositives(name='fp'),\n",
    "      keras.metrics.TrueNegatives(name='tn'),\n",
    "      keras.metrics.FalseNegatives(name='fn'), \n",
    "      keras.metrics.BinaryAccuracy(name='accuracy'),\n",
    "      keras.metrics.Precision(name='precision'),\n",
    "      keras.metrics.Recall(name='recall'),\n",
    "      keras.metrics.AUC(name='auc'),\n",
    "      keras.metrics.AUC(name='prc', curve='PR'), # precision-recall curve\n",
    "]\n",
    "\n",
    "model.compile(optimizer='adam',\n",
    "          loss=tf.keras.losses.BinaryCrossentropy(from_logits=False),\n",
    "          metrics=METRICS)\n",
    "\n",
    "history = model.fit(\n",
    "        X_values,\n",
    "        Y_values,\n",
    "        epochs=1,\n",
    "        validation_data=(X_val, Y_val),\n",
    "        batch_size=10)\n",
    "model.evaluate(X_test, Y_test)\n"
   ]
  },
  {
   "cell_type": "code",
   "execution_count": null,
   "id": "77bc5050",
   "metadata": {},
   "outputs": [],
   "source": []
  }
 ],
 "metadata": {
  "kernelspec": {
   "display_name": "Python 3 (ipykernel)",
   "language": "python",
   "name": "python3"
  },
  "language_info": {
   "codemirror_mode": {
    "name": "ipython",
    "version": 3
   },
   "file_extension": ".py",
   "mimetype": "text/x-python",
   "name": "python",
   "nbconvert_exporter": "python",
   "pygments_lexer": "ipython3",
   "version": "3.9.12"
  }
 },
 "nbformat": 4,
 "nbformat_minor": 5
}
